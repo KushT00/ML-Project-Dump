{
 "cells": [
  {
   "cell_type": "code",
   "execution_count": 7,
   "id": "a165e49d-59a6-4c61-a2a4-f269dd09d934",
   "metadata": {},
   "outputs": [
    {
     "name": "stderr",
     "output_type": "stream",
     "text": [
      "c:\\Users\\Dell\\AppData\\Local\\Programs\\Python\\Python310\\lib\\site-packages\\sklearn\\base.py:376: InconsistentVersionWarning: Trying to unpickle estimator DecisionTreeClassifier from version 1.4.2 when using version 1.5.2. This might lead to breaking code or invalid results. Use at your own risk. For more info please refer to:\n",
      "https://scikit-learn.org/stable/model_persistence.html#security-maintainability-limitations\n",
      "  warnings.warn(\n"
     ]
    }
   ],
   "source": [
    "import pandas as pd\n",
    "from sklearn.tree   import DecisionTreeClassifier\n",
    "import joblib\n",
    "from sklearn import tree\n",
    "\n",
    "# Load the dataset\n",
    "df = pd.read_csv('music.csv')\n",
    "\n",
    "# Split the dataset into features (X) and labels (y)\n",
    "X = df.drop(columns=['genre'])\n",
    "y = df['genre']\n",
    "\n",
    "# Train the Decision Tree model\n",
    "model = DecisionTreeClassifier()\n",
    "model.fit(X, y)\n",
    "\n",
    "newModel=joblib.load('trainned-model.joblib')\n",
    "# Create a DataFrame for the new data with the same column names as the original dataset\n",
    "new_data = pd.DataFrame([[21, 1], [22, 0]], columns=X.columns)\n",
    "\n",
    "# Make predictions\n",
    "predictions = newModel.predict(new_data)\n",
    "\n",
    "\n",
    "\n",
    "tree.export_graphviz(model,out_file='trs.dot',\n",
    "                    feature_names=['age','gender'],\n",
    "                    class_names=sorted(y.unique()),\n",
    "                    label='all',\n",
    "                    rounded=True,\n",
    "                    filled=True)\n",
    "\n"
   ]
  },
  {
   "cell_type": "code",
   "execution_count": null,
   "id": "896981ec-bc33-4c31-9fea-6eaac604955a",
   "metadata": {},
   "outputs": [],
   "source": []
  }
 ],
 "metadata": {
  "kernelspec": {
   "display_name": "Python 3 (ipykernel)",
   "language": "python",
   "name": "python3"
  },
  "language_info": {
   "codemirror_mode": {
    "name": "ipython",
    "version": 3
   },
   "file_extension": ".py",
   "mimetype": "text/x-python",
   "name": "python",
   "nbconvert_exporter": "python",
   "pygments_lexer": "ipython3",
   "version": "3.10.5"
  }
 },
 "nbformat": 4,
 "nbformat_minor": 5
}
